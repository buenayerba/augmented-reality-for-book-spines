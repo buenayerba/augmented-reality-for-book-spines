{
 "cells": [
  {
   "cell_type": "code",
   "execution_count": 2,
   "metadata": {},
   "outputs": [],
   "source": [
    "# standard setup\n",
    "%matplotlib inline\n",
    "import numpy as np\n",
    "import matplotlib.pyplot as plt\n",
    "import cv2\n",
    "import random\n",
    "\n",
    "# useful helper function\n",
    "from helpers import imshow"
   ]
  },
  {
   "cell_type": "code",
   "execution_count": 3,
   "metadata": {},
   "outputs": [
    {
     "name": "stdout",
     "output_type": "stream",
     "text": [
      "True\n"
     ]
    },
    {
     "data": {
      "text/plain": [
       "-1"
      ]
     },
     "execution_count": 3,
     "metadata": {},
     "output_type": "execute_result"
    }
   ],
   "source": [
    "# Camera settings\n",
    "camera = cv2.VideoCapture(1)\n",
    "print camera.isOpened()\n",
    "\n",
    "# reduce frame size to speed it up\n",
    "w = 640\n",
    "h = w*3/4\n",
    "camera.set(cv2.CAP_PROP_FRAME_WIDTH, w) \n",
    "camera.set(cv2.CAP_PROP_FRAME_HEIGHT, h) \n",
    "# camera.set(cv2.CAP_PROP_EXPOSURE,-4) \n",
    "i = 0\n",
    "while True:\n",
    "    # Get frame at flip it\n",
    "    ret, frame = camera.read()\n",
    "    frame = cv2.flip(frame, 1)\n",
    "#     print frame.shape\n",
    "    cv2.imshow(\"Frame2\", frame)\n",
    "\n",
    "    # Press space bar for capturing an image\n",
    "    if cv2.waitKey(5) == 32:\n",
    "        imshow(frame)\n",
    "        cv2.imwrite(\"im-\" + str(i) + \".jpg\", frame)\n",
    "        i += 1\n",
    "    elif cv2.waitKey(5) == 27:\n",
    "        break  \n",
    "       \n",
    "    range_verical = np.arange(0, frame.shape[0], 10)\n",
    "    range_horizontal = np.arange(0, frame.shape[1], 10)\n",
    "    \n",
    "    for y_coord in range_verical:\n",
    "        thickness = 2 if y_coord%50 == 0 else 1\n",
    "        cv2.line(frame, (0,y_coord), (frame.shape[1], y_coord), [0, 255, 0], thickness, lineType=8, shift=0)\n",
    "\n",
    "    for x_coord in range_horizontal:\n",
    "        thickness = 2 if x_coord%50 == 0 else 1\n",
    "        cv2.line(frame, (x_coord, 0), (x_coord, frame.shape[0]), [0, 255, 0], thickness, lineType=8, shift=0)\n",
    "    cv2.imshow(\"Frame\", frame)\n",
    "    \n",
    "cv2.destroyAllWindows()\n",
    "camera.release()\n",
    "cv2.waitKey(1) # extra waitKey sometimes needed to close camera window"
   ]
  },
  {
   "cell_type": "code",
   "execution_count": 20,
   "metadata": {},
   "outputs": [
    {
     "name": "stdout",
     "output_type": "stream",
     "text": [
      "True\n"
     ]
    }
   ],
   "source": [
    "camera = cv2.VideoCapture(0)\n",
    "print camera.isOpened()\n",
    "camera.release()\n"
   ]
  },
  {
   "cell_type": "code",
   "execution_count": null,
   "metadata": {},
   "outputs": [],
   "source": []
  },
  {
   "cell_type": "code",
   "execution_count": null,
   "metadata": {},
   "outputs": [],
   "source": []
  }
 ],
 "metadata": {
  "kernelspec": {
   "display_name": "Python 2",
   "language": "python",
   "name": "python2"
  },
  "language_info": {
   "codemirror_mode": {
    "name": "ipython",
    "version": 2
   },
   "file_extension": ".py",
   "mimetype": "text/x-python",
   "name": "python",
   "nbconvert_exporter": "python",
   "pygments_lexer": "ipython2",
   "version": "2.7.14"
  }
 },
 "nbformat": 4,
 "nbformat_minor": 2
}
