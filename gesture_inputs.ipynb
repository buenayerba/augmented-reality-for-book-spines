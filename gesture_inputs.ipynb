{
 "cells": [
  {
   "cell_type": "markdown",
   "metadata": {},
   "source": [
    "## Import library"
   ]
  },
  {
   "cell_type": "code",
   "execution_count": 1,
   "metadata": {},
   "outputs": [],
   "source": [
    "# standard setup\n",
    "%matplotlib inline\n",
    "import numpy as np\n",
    "import matplotlib.pyplot as plt\n",
    "import cv2\n",
    "import random\n",
    "import time\n",
    "\n",
    "# useful helper function\n",
    "from helpers import imshow"
   ]
  },
  {
   "cell_type": "code",
   "execution_count": 15,
   "metadata": {},
   "outputs": [],
   "source": [
    "def extractFeaturesFromImage(query_path):\n",
    "    '''\n",
    "    @query_path: path of the query image\n",
    "    @returns: keypoints and descriptors of the query image\n",
    "    '''\n",
    "    query_img = cv2.imread(query_path, 0)\n",
    "    kp_query, des_query = sift.detectAndCompute(query_img, None)  \n",
    "    return kp_query, des_query, query_img"
   ]
  },
  {
   "cell_type": "code",
   "execution_count": 3,
   "metadata": {},
   "outputs": [],
   "source": [
    "def initializeMatcher():\n",
    "    '''\n",
    "    @returns: FLANN matcher\n",
    "    '''\n",
    "    FLANN_INDEX_KDTREE = 0\n",
    "    index_params = dict(algorithm = FLANN_INDEX_KDTREE, trees = 5)\n",
    "    search_params = dict(checks=50)   # or pass empty dictionary\n",
    "    flann = cv2.FlannBasedMatcher(index_params,search_params)\n",
    "    return flann"
   ]
  },
  {
   "cell_type": "code",
   "execution_count": 24,
   "metadata": {},
   "outputs": [],
   "source": [
    "def initializeCamera(w):\n",
    "    '''\n",
    "    @w: width of the video frame\n",
    "    @returns: camera object\n",
    "    '''\n",
    "    camera = cv2.VideoCapture(0)\n",
    "    camera.set(cv2.CAP_PROP_FRAME_WIDTH, w) \n",
    "    camera.set(cv2.CAP_PROP_FRAME_HEIGHT, w * 3/4) \n",
    "    camera.set(cv2.CAP_PROP_EXPOSURE,-4) \n",
    "    return camera"
   ]
  },
  {
   "cell_type": "code",
   "execution_count": 12,
   "metadata": {},
   "outputs": [],
   "source": [
    "def getGoodMatches(des_query, des_scene):\n",
    "    '''\n",
    "    @des_query: descriptors of a query image\n",
    "    @des_scene: descriptors of a scene image\n",
    "    @returns: list of good matches for query and scene images\n",
    "    '''\n",
    "    \n",
    "    matches = flann.knnMatch(des_query, des_scene,k=2)\n",
    "\n",
    "    # ratio test as per Lowe's paper\n",
    "    good_matches = []\n",
    "    \n",
    "    # Each member of the matches list must be checked whether two neighbours really exist.\n",
    "    for m_n in matches:\n",
    "        if len(m_n) != 2:\n",
    "            continue\n",
    "        (m,n) = m_n\n",
    "        if m.distance < 0.7*n.distance:\n",
    "            good_matches.append(m)\n",
    "            \n",
    "    return good_matches"
   ]
  },
  {
   "cell_type": "code",
   "execution_count": 51,
   "metadata": {},
   "outputs": [],
   "source": [
    "def findBookSpine(good_matches, query_img, kp_query, kp_scene):\n",
    "    if len(good_matches) > 15:\n",
    "        \n",
    "        # Source points and destnation points\n",
    "        src_pts = np.float32([kp_query[m.queryIdx].pt for m in good_matches]).reshape(-1, 1, 2)\n",
    "        dst_pts = np.float32([kp_scene[m.trainIdx].pt for m in good_matches]).reshape(-1, 1, 2)\n",
    "        \n",
    "        # Compute Homography\n",
    "        M, mask = cv2.findHomography(src_pts, dst_pts, cv2.RANSAC, 5.0)\n",
    "\n",
    "        rows,cols = frame.shape[:2]\n",
    "        dst = cv2.warpPerspective(query_img, M, (cols, rows));\n",
    "        return dst\n",
    "    "
   ]
  },
  {
   "cell_type": "markdown",
   "metadata": {},
   "source": [
    "## Hide background if a book spine appears in the video frame"
   ]
  },
  {
   "cell_type": "code",
   "execution_count": 52,
   "metadata": {},
   "outputs": [
    {
     "data": {
      "text/plain": [
       "-1"
      ]
     },
     "execution_count": 52,
     "metadata": {},
     "output_type": "execute_result"
    }
   ],
   "source": [
    "# SIFT keypoint extractor\n",
    "sift = cv2.xfeatures2d.SIFT_create()\n",
    "\n",
    "\n",
    "kp_query1, des_query1, query_img1 = extractFeaturesFromImage('spine1.jpg')\n",
    "kp_query2, des_query2, query_img2 = extractFeaturesFromImage('book3.jpg')\n",
    "kp_query3, des_query3, query_img3 = extractFeaturesFromImage('book2.jpg')\n",
    "\n",
    "# Initialize FLANN matcher\n",
    "flann = initializeMatcher()\n",
    "\n",
    "# Initialize camera\n",
    "camera = initializeCamera(640)\n",
    "\n",
    "while True:\n",
    "    # Get frame at flip it\n",
    "    ret, frame = camera.read()\n",
    "    frame = cv2.flip(frame, 1)\n",
    "    frame_gray = cv2.cvtColor(frame, cv2.COLOR_BGR2GRAY)\n",
    "\n",
    "    # keypoints and descriptors for video frame \n",
    "    kp_scene, des_scene =  sift.detectAndCompute(frame_gray,None)\n",
    "       \n",
    "    # Good Matches\n",
    "    good_matches1 = getGoodMatches(des_query1,des_scene)\n",
    "    good_matches2 = getGoodMatches(des_query2,des_scene)\n",
    "    good_matches3 = getGoodMatches(des_query3,des_scene)   \n",
    "        \n",
    "    dst = findBookSpine(good_matches1, query_img1, kp_query1, kp_scene)\n",
    "\n",
    "    if type(dst) == np.ndarray: \n",
    "        frame = dst\n",
    "    \n",
    "    if cv2.waitKey(5) == 32:\n",
    "        imshow(frame)        \n",
    "    elif cv2.waitKey(5) == 27:\n",
    "        break  \n",
    "   \n",
    "    cv2.imshow(\"SIFT Frame\", frame)\n",
    "    \n",
    "cv2.destroyAllWindows()\n",
    "camera.release()\n",
    "cv2.waitKey(1) # extra waitKey sometimes needed to close camera window"
   ]
  },
  {
   "cell_type": "markdown",
   "metadata": {},
   "source": [
    "## Book Spine Selection"
   ]
  },
  {
   "cell_type": "code",
   "execution_count": null,
   "metadata": {},
   "outputs": [],
   "source": [
    "# SIFT keypoint extractor\n",
    "sift = cv2.xfeatures2d.SIFT_create()\n",
    "\n",
    "\n",
    "kp_query1, des_query1, query_img1 = extractFeaturesFromImage('spine1.jpg')\n",
    "kp_query2, des_query2, query_img2 = extractFeaturesFromImage('book3.jpg')\n",
    "kp_query3, des_query3, query_img3 = extractFeaturesFromImage('book2.jpg')\n",
    "\n",
    "# Initialize FLANN matcher\n",
    "flann = initializeMatcher()\n",
    "\n",
    "# Initialize camera\n",
    "camera = initializeCamera(640)\n",
    "\n",
    "while True:\n",
    "    # Get frame at flip it\n",
    "    ret, frame = camera.read()\n",
    "    frame = cv2.flip(frame, 1)\n",
    "    frame_gray = cv2.cvtColor(frame, cv2.COLOR_BGR2GRAY)\n",
    "\n",
    "    # keypoints and descriptors for video frame \n",
    "    kp_scene, des_scene =  sift.detectAndCompute(frame_gray,None)\n",
    "       \n",
    "    # Good Matches\n",
    "    good_matches1 = getGoodMatches(des_query1,des_scene)\n",
    "    good_matches2 = getGoodMatches(des_query2,des_scene)\n",
    "    good_matches3 = getGoodMatches(des_query3,des_scene)\n",
    "    \n",
    "    if len(good_matches1) > 15:\n",
    "        print \"Book 1 found\"\n",
    "\n",
    "    if len(good_matches2) > 15:\n",
    "        print \"Book 2 found\"\n",
    "\n",
    "    if len(good_matches3) > 15:\n",
    "        print \"Book 3 found\" \n",
    "        \n",
    "    dst = checkSelected(good_matches1, query_img1, kp_query1, kp_scene)\n",
    "\n",
    "    if type(dst) == np.ndarray: \n",
    "        frame = checkSelected(good_matches1, query_img1, kp_query1, kp_scene)\n",
    "\n",
    "#         cv2.imshow(\"dst frame\", dst)\n",
    "\n",
    "    \n",
    "    if cv2.waitKey(5) == 32:\n",
    "        imshow(frame)        \n",
    "    elif cv2.waitKey(5) == 27:\n",
    "        break  \n",
    "   \n",
    "    # frame = cv2.flip(frame, 1)\n",
    "    cv2.imshow(\"SIFT Frame\", frame)\n",
    "    \n",
    "cv2.destroyAllWindows()\n",
    "camera.release()\n",
    "cv2.waitKey(1) # extra waitKey sometimes needed to close camera window"
   ]
  },
  {
   "cell_type": "code",
   "execution_count": null,
   "metadata": {},
   "outputs": [],
   "source": []
  }
 ],
 "metadata": {
  "kernelspec": {
   "display_name": "Python 2",
   "language": "python",
   "name": "python2"
  },
  "language_info": {
   "codemirror_mode": {
    "name": "ipython",
    "version": 2
   },
   "file_extension": ".py",
   "mimetype": "text/x-python",
   "name": "python",
   "nbconvert_exporter": "python",
   "pygments_lexer": "ipython2",
   "version": "2.7.14"
  }
 },
 "nbformat": 4,
 "nbformat_minor": 2
}
