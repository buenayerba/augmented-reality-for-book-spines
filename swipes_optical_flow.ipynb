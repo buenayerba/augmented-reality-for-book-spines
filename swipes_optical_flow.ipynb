{
 "cells": [
  {
   "cell_type": "markdown",
   "metadata": {},
   "source": [
    "## Import libraries"
   ]
  },
  {
   "cell_type": "code",
   "execution_count": 1,
   "metadata": {},
   "outputs": [],
   "source": [
    "# standard setup\n",
    "%matplotlib inline\n",
    "import numpy as np\n",
    "import matplotlib.pyplot as plt\n",
    "import cv2\n",
    "import random\n",
    "import time\n",
    "\n",
    "# useful helper function\n",
    "from helpers import imshow"
   ]
  },
  {
   "cell_type": "markdown",
   "metadata": {},
   "source": [
    "## Adding Dense Optical Flow on Video Frame"
   ]
  },
  {
   "cell_type": "code",
   "execution_count": 2,
   "metadata": {},
   "outputs": [],
   "source": [
    "# parameters for farneback optical flow\n",
    "fb_params = dict( pyr_scale = 0.5, \n",
    "                  levels = 3, \n",
    "                  winsize = 5, \n",
    "                  iterations = 3, \n",
    "                  poly_n = 5,\n",
    "                  poly_sigma = 1.2, \n",
    "                  flags = 0 )"
   ]
  },
  {
   "cell_type": "code",
   "execution_count": 3,
   "metadata": {},
   "outputs": [],
   "source": [
    "def initializeCamera(w):\n",
    "    '''\n",
    "    @w: width of the video frame\n",
    "    @returns: camera object\n",
    "    '''\n",
    "    camera = cv2.VideoCapture(0)\n",
    "    camera.set(cv2.CAP_PROP_FRAME_WIDTH, w) \n",
    "    camera.set(cv2.CAP_PROP_FRAME_HEIGHT, w * 3/4) \n",
    "    camera.set(cv2.CAP_PROP_EXPOSURE,-4) \n",
    "    return camera"
   ]
  },
  {
   "cell_type": "code",
   "execution_count": 4,
   "metadata": {},
   "outputs": [],
   "source": [
    "def draw_motion_field(u, v, scale, stride, color=(0, 255, 0)):\n",
    "    \"\"\"Draws motion fields given the displacements in X and Y directions.\n",
    "    \n",
    "    \"\"\"\n",
    "    img_out = np.zeros((v.shape[0], u.shape[1], 3), dtype=np.uint8)\n",
    "\n",
    "    for y in range(0,v.shape[0],stride):\n",
    "        for x in range(0,u.shape[1],stride):\n",
    "            cv2.line(img_out, (x, y), (x + int(u[y, x] * scale), y + int(v[y, x] * scale)), color, 1)\n",
    "            cv2.circle(img_out, (x + int(u[y, x] * scale), y + int(v[y, x] * scale)), 1, color, 1)\n",
    "            \n",
    "    return img_out"
   ]
  },
  {
   "cell_type": "code",
   "execution_count": 5,
   "metadata": {},
   "outputs": [],
   "source": [
    "def draw_motion_field_on_frame(frame, u, v, scale, stride, color=(0, 0, 0)):\n",
    "    \"\"\"Draws motion fields given the displacements in X and Y directions.\n",
    "    \n",
    "    \"\"\"\n",
    "    img_out = frame.copy()\n",
    "\n",
    "    for y in range(5,v.shape[0],stride):\n",
    "        for x in range(5,u.shape[1],stride):\n",
    "            cv2.line(img_out, (x, y), (x + int(u[y, x] * scale), y + int(v[y, x] * scale)), color, 2)\n",
    "            cv2.circle(img_out, (x + int(u[y, x] * scale), y + int(v[y, x] * scale)), 3, color, 3)\n",
    "            \n",
    "    return img_out"
   ]
  },
  {
   "cell_type": "code",
   "execution_count": 14,
   "metadata": {},
   "outputs": [
    {
     "data": {
      "text/plain": [
       "-1"
      ]
     },
     "execution_count": 14,
     "metadata": {},
     "output_type": "execute_result"
    }
   ],
   "source": [
    "from IPython.display import clear_output\n",
    "\n",
    "# Initialize camera\n",
    "camera = initializeCamera(640)\n",
    "\n",
    "# Flip frame\n",
    "ret, prev_frame = camera.read()\n",
    "prev_frame = cv2.flip(prev_frame, 1)\n",
    "prev_gray = cv2.cvtColor(prev_frame, cv2.COLOR_BGR2GRAY)\n",
    "\n",
    "while True:\n",
    "    clear_output(True)\n",
    "\n",
    "    # Get current frame at flip it\n",
    "    ret, next_frame = camera.read()\n",
    "    next_frame = cv2.flip(next_frame, 1)\n",
    "    next_gray = cv2.cvtColor(next_frame, cv2.COLOR_BGR2GRAY)\n",
    "\n",
    "    # Calculate the dense optical flow\n",
    "    flow = cv2.calcOpticalFlowFarneback(prev_gray, next_gray, None, **fb_params)\n",
    "    \n",
    "    # Obtain the flow magnitude and direction angle\n",
    "    mag, ang = cv2.cartToPolar(flow[...,0], flow[...,1])\n",
    "    \n",
    "    # Add vector field to a video frame\n",
    "    field_img = draw_motion_field_on_frame(next_frame, flow[...,0], flow[...,1], scale=2, stride=50)\n",
    "        \n",
    "    cv2.imshow('Frame', next_frame)\n",
    "    cv2.imshow('Field', field_img)\n",
    "    \n",
    "    prev_gray = next_gray\n",
    "    \n",
    "    if cv2.waitKey(5) == 27:\n",
    "        break      \n",
    "        \n",
    "cv2.destroyAllWindows()\n",
    "camera.release()\n",
    "cv2.waitKey(1) # extra waitKey sometimes needed to close camera window"
   ]
  },
  {
   "cell_type": "markdown",
   "metadata": {},
   "source": [
    "## Find General Direction and Magnitue"
   ]
  },
  {
   "cell_type": "code",
   "execution_count": 15,
   "metadata": {},
   "outputs": [],
   "source": [
    "# Helper function to find magnitude of the vector\n",
    "def get_mag(dx, dy):\n",
    "    return np.linalg.norm([dx, dy])\n",
    "\n",
    "\n",
    "# Helper function to find angle of the vector\n",
    "def get_angle(dx, dy):\n",
    "    x_direction = [1, 0]\n",
    "    v = [dx,dy] / np.linalg.norm([dx, dy])\n",
    "    cos_theta = np.dot(v, x_direction) \n",
    "    orientation = np.cross(x_direction, v)\n",
    "    if orientation >= 0:\n",
    "        angle = np.arccos(cos_theta)*(180/np.pi)\n",
    "    else:\n",
    "        angle = 360 - np.arccos(cos_theta)*(180/np.pi)\n",
    "    return angle"
   ]
  },
  {
   "cell_type": "code",
   "execution_count": 97,
   "metadata": {},
   "outputs": [],
   "source": [
    "def average_displacement(frame, u, v, scale, stride, color=(0, 0, 0)):\n",
    "    img_out = frame.copy()\n",
    "\n",
    "    mag_ave = 0\n",
    "    ang_ave = 0\n",
    "    \n",
    "    # angles[0] = 0\n",
    "    # angles[1] = 90\n",
    "    # angles[2] = 180\n",
    "    # angles[3] = 270\n",
    "    angles = np.zeros(4)\n",
    "    magnitudes = np.zeros(4)\n",
    "    \n",
    "    directions = [\"RIGHT\", \"DOWN\", \"LEFT\", \"UP\"]\n",
    "    \n",
    "    for y in range(0,u.shape[0],stride):\n",
    "        for x in range(0,u.shape[1],stride):\n",
    "            dx, dy = u[y, x], v[y, x]\n",
    "            mag = get_mag(dx, dy)\n",
    "            ang = get_angle(dx, dy)\n",
    "              \n",
    "            if mag > 30:\n",
    "                if ang>=315 or ang<45:\n",
    "                    angles[0] += 1\n",
    "                    magnitudes[0] += 1\n",
    "                elif 45 <= ang < 135:\n",
    "                    angles[1] += 1\n",
    "                    magnitudes[1] += 1\n",
    "                elif 135 <= ang < 225:\n",
    "                    angles[2] += 1\n",
    "                    magnitudes[2] += 1\n",
    "                elif 225 <= ang < 315:\n",
    "                    angles[3] += 1\n",
    "                    magnitudes[3] += 1                \n",
    "            cv2.line(img_out, (x, y), (x + int(dx * scale), y + int(dy * scale)), color, 2)\n",
    "            cv2.circle(img_out, (x + int(dx * scale), y + int(dy * scale)), 3, color, 3) \n",
    "                \n",
    "\n",
    "    if np.sum(angles) >= 0:\n",
    "        if np.max(angles) >= 10:\n",
    "            print np.max(angles)\n",
    "            print np.argmax(angles)\n",
    "            print directions[np.argmax(angles)]\n",
    "\n",
    "    return img_out\n",
    "    "
   ]
  },
  {
   "cell_type": "code",
   "execution_count": 104,
   "metadata": {},
   "outputs": [
    {
     "data": {
      "text/plain": [
       "-1"
      ]
     },
     "execution_count": 104,
     "metadata": {},
     "output_type": "execute_result"
    }
   ],
   "source": [
    "### from IPython.display import clear_output\n",
    "\n",
    "# Initialize camera\n",
    "camera = initializeCamera(640)\n",
    "\n",
    "# Flip frame\n",
    "ret, prev_frame = camera.read()\n",
    "prev_frame = cv2.flip(prev_frame, 1)\n",
    "prev_gray = cv2.cvtColor(prev_frame, cv2.COLOR_BGR2GRAY)\n",
    "\n",
    "while True:\n",
    "    clear_output(True)\n",
    "\n",
    "    # Get current frame at flip it\n",
    "    ret, next_frame = camera.read()\n",
    "    next_frame = cv2.flip(next_frame, 1)\n",
    "    next_gray = cv2.cvtColor(next_frame, cv2.COLOR_BGR2GRAY)\n",
    "\n",
    "    # Calculate the dense optical flow\n",
    "    flow = cv2.calcOpticalFlowFarneback(prev_gray, next_gray, None, **fb_params)\n",
    "    \n",
    "    # Obtain the flow magnitude and direction angle\n",
    "    mag, ang = cv2.cartToPolar(flow[...,0], flow[...,1])\n",
    "    \n",
    "#     print mag.shape\n",
    "#     print \"Magnitude\", mag[240,320]\n",
    "#     print \"Direction\", ang[240,320]*180%360\n",
    "#     print \"Direction\", ang[200,300]*180%360\n",
    "#     print \"Direction\", ang[100,200]*180%360\n",
    "    \n",
    "    \n",
    "    # Add vector field to a video frame\n",
    "    field_img = average_displacement(next_frame, flow[...,0], flow[...,1], scale=2, stride=30)\n",
    "    \n",
    "    cv2.imshow('Frame', next_frame)\n",
    "    cv2.imshow('Field', field_img)\n",
    "    \n",
    "    prev_gray = next_gray\n",
    "    \n",
    "    if cv2.waitKey(5) == 27:\n",
    "        break      \n",
    "        \n",
    "cv2.destroyAllWindows()\n",
    "camera.release()\n",
    "cv2.waitKey(1) # extra waitKey sometimes needed to close camera window"
   ]
  },
  {
   "cell_type": "code",
   "execution_count": null,
   "metadata": {},
   "outputs": [],
   "source": []
  },
  {
   "cell_type": "markdown",
   "metadata": {},
   "source": [
    "## Find General Direction and Magnitue"
   ]
  },
  {
   "cell_type": "code",
   "execution_count": 15,
   "metadata": {},
   "outputs": [],
   "source": [
    "# Helper function to find magnitude of the vector\n",
    "def get_mag(dx, dy):\n",
    "    return np.linalg.norm([dx, dy])\n",
    "\n",
    "\n",
    "# Helper function to find angle of the vector\n",
    "def get_angle(dx, dy):\n",
    "    x_direction = [1, 0]\n",
    "    v = [dx,dy] / np.linalg.norm([dx, dy])\n",
    "    cos_theta = np.dot(v, x_direction) \n",
    "    orientation = np.cross(x_direction, v)\n",
    "    if orientation >= 0:\n",
    "        angle = np.arccos(cos_theta)*(180/np.pi)\n",
    "    else:\n",
    "        angle = 360 - np.arccos(cos_theta)*(180/np.pi)\n",
    "    return angle"
   ]
  },
  {
   "cell_type": "code",
   "execution_count": 97,
   "metadata": {},
   "outputs": [],
   "source": [
    "def average_displacement(frame, u, v, scale, stride, color=(0, 0, 0)):\n",
    "    img_out = frame.copy()\n",
    "\n",
    "    mag_ave = 0\n",
    "    ang_ave = 0\n",
    "    \n",
    "    # angles[0] = 0\n",
    "    # angles[1] = 90\n",
    "    # angles[2] = 180\n",
    "    # angles[3] = 270\n",
    "    angles = np.zeros(4)\n",
    "    magnitudes = np.zeros(4)\n",
    "    \n",
    "    directions = [\"RIGHT\", \"DOWN\", \"LEFT\", \"UP\"]\n",
    "    \n",
    "    for y in range(0,u.shape[0],stride):\n",
    "        for x in range(0,u.shape[1],stride):\n",
    "            dx, dy = u[y, x], v[y, x]\n",
    "            mag = get_mag(dx, dy)\n",
    "            ang = get_angle(dx, dy)\n",
    "              \n",
    "            if mag > 30:\n",
    "                if ang>=315 or ang<45:\n",
    "                    angles[0] += 1\n",
    "                    magnitudes[0] += 1\n",
    "                elif 45 <= ang < 135:\n",
    "                    angles[1] += 1\n",
    "                    magnitudes[1] += 1\n",
    "                elif 135 <= ang < 225:\n",
    "                    angles[2] += 1\n",
    "                    magnitudes[2] += 1\n",
    "                elif 225 <= ang < 315:\n",
    "                    angles[3] += 1\n",
    "                    magnitudes[3] += 1                \n",
    "            cv2.line(img_out, (x, y), (x + int(dx * scale), y + int(dy * scale)), color, 2)\n",
    "            cv2.circle(img_out, (x + int(dx * scale), y + int(dy * scale)), 3, color, 3) \n",
    "                \n",
    "\n",
    "    if np.sum(angles) >= 0:\n",
    "        if np.max(angles) >= 10:\n",
    "            print np.max(angles)\n",
    "            print np.argmax(angles)\n",
    "            print directions[np.argmax(angles)]\n",
    "\n",
    "    return img_out\n",
    "    "
   ]
  },
  {
   "cell_type": "code",
   "execution_count": 104,
   "metadata": {},
   "outputs": [
    {
     "data": {
      "text/plain": [
       "-1"
      ]
     },
     "execution_count": 104,
     "metadata": {},
     "output_type": "execute_result"
    }
   ],
   "source": [
    "### from IPython.display import clear_output\n",
    "\n",
    "# Initialize camera\n",
    "camera = initializeCamera(640)\n",
    "\n",
    "# Flip frame\n",
    "ret, prev_frame = camera.read()\n",
    "prev_frame = cv2.flip(prev_frame, 1)\n",
    "prev_gray = cv2.cvtColor(prev_frame, cv2.COLOR_BGR2GRAY)\n",
    "\n",
    "while True:\n",
    "    clear_output(True)\n",
    "\n",
    "    # Get current frame at flip it\n",
    "    ret, next_frame = camera.read()\n",
    "    next_frame = cv2.flip(next_frame, 1)\n",
    "    next_gray = cv2.cvtColor(next_frame, cv2.COLOR_BGR2GRAY)\n",
    "\n",
    "    # Calculate the dense optical flow\n",
    "    flow = cv2.calcOpticalFlowFarneback(prev_gray, next_gray, None, **fb_params)\n",
    "    \n",
    "    # Obtain the flow magnitude and direction angle\n",
    "    mag, ang = cv2.cartToPolar(flow[...,0], flow[...,1])\n",
    "    \n",
    "#     print mag.shape\n",
    "#     print \"Magnitude\", mag[240,320]\n",
    "#     print \"Direction\", ang[240,320]*180%360\n",
    "#     print \"Direction\", ang[200,300]*180%360\n",
    "#     print \"Direction\", ang[100,200]*180%360\n",
    "    \n",
    "    \n",
    "    # Add vector field to a video frame\n",
    "    field_img = average_displacement(next_frame, flow[...,0], flow[...,1], scale=2, stride=30)\n",
    "    \n",
    "    cv2.imshow('Frame', next_frame)\n",
    "    cv2.imshow('Field', field_img)\n",
    "    \n",
    "    prev_gray = next_gray\n",
    "    \n",
    "    if cv2.waitKey(5) == 27:\n",
    "        break      \n",
    "        \n",
    "cv2.destroyAllWindows()\n",
    "camera.release()\n",
    "cv2.waitKey(1) # extra waitKey sometimes needed to close camera window"
   ]
  },
  {
   "cell_type": "code",
   "execution_count": null,
   "metadata": {},
   "outputs": [],
   "source": []
  },
  {
   "cell_type": "code",
   "execution_count": null,
   "metadata": {},
   "outputs": [],
   "source": []
  }
 ],
 "metadata": {
  "kernelspec": {
   "display_name": "Python 2",
   "language": "python",
   "name": "python2"
  },
  "language_info": {
   "codemirror_mode": {
    "name": "ipython",
    "version": 2
   },
   "file_extension": ".py",
   "mimetype": "text/x-python",
   "name": "python",
   "nbconvert_exporter": "python",
   "pygments_lexer": "ipython2",
   "version": "2.7.14"
  }
 },
 "nbformat": 4,
 "nbformat_minor": 2
}
