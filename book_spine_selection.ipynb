{
 "cells": [
  {
   "cell_type": "markdown",
   "metadata": {},
   "source": [
    "## Import library"
   ]
  },
  {
   "cell_type": "code",
   "execution_count": 14,
   "metadata": {},
   "outputs": [],
   "source": [
    "# standard setup\n",
    "%matplotlib inline\n",
    "import numpy as np\n",
    "import matplotlib.pyplot as plt\n",
    "import cv2\n",
    "import random\n",
    "import time\n",
    "\n",
    "# useful helper function\n",
    "from helpers import imshow"
   ]
  },
  {
   "cell_type": "code",
   "execution_count": 15,
   "metadata": {},
   "outputs": [],
   "source": [
    "def extractFeaturesFromImage(query_path):\n",
    "    '''\n",
    "    @query_path: path of the query image\n",
    "    @returns: keypoints and descriptors of the query image\n",
    "    '''\n",
    "    query_img = cv2.imread(query_path, 0)\n",
    "    kp_query, des_query = sift.detectAndCompute(query_img, None)  \n",
    "    return kp_query, des_query, query_img"
   ]
  },
  {
   "cell_type": "code",
   "execution_count": 16,
   "metadata": {},
   "outputs": [],
   "source": [
    "def initializeMatcher():\n",
    "    '''\n",
    "    @returns: FLANN matcher\n",
    "    '''\n",
    "    FLANN_INDEX_KDTREE = 0\n",
    "    index_params = dict(algorithm = FLANN_INDEX_KDTREE, trees = 5)\n",
    "    search_params = dict(checks=50)   # or pass empty dictionary\n",
    "    flann = cv2.FlannBasedMatcher(index_params,search_params)\n",
    "    return flann"
   ]
  },
  {
   "cell_type": "code",
   "execution_count": 17,
   "metadata": {},
   "outputs": [],
   "source": [
    "def initializeCamera(w):\n",
    "    '''\n",
    "    @w: width of the video frame\n",
    "    @returns: camera object\n",
    "    '''\n",
    "    camera = cv2.VideoCapture(1)\n",
    "    camera.set(cv2.CAP_PROP_FRAME_WIDTH, w) \n",
    "    camera.set(cv2.CAP_PROP_FRAME_HEIGHT, w * 3/4) \n",
    "    camera.set(cv2.CAP_PROP_EXPOSURE,-4) \n",
    "    return camera"
   ]
  },
  {
   "cell_type": "code",
   "execution_count": 18,
   "metadata": {},
   "outputs": [],
   "source": [
    "def getGoodMatches(des_query, des_scene):\n",
    "    '''\n",
    "    @des_query: descriptors of a query image\n",
    "    @des_scene: descriptors of a scene image\n",
    "    @returns: list of good matches for query and scene images\n",
    "    '''\n",
    "    \n",
    "    matches = flann.knnMatch(des_query, des_scene,k=2)\n",
    "\n",
    "    # ratio test as per Lowe's paper\n",
    "    good_matches = []\n",
    "    \n",
    "    # Each member of the matches list must be checked whether two neighbours really exist.\n",
    "    for m_n in matches:\n",
    "        if len(m_n) != 2:\n",
    "            continue\n",
    "        (m,n) = m_n\n",
    "        if m.distance < 0.7*n.distance:\n",
    "            good_matches.append(m)\n",
    "            \n",
    "    return good_matches"
   ]
  },
  {
   "cell_type": "code",
   "execution_count": 19,
   "metadata": {},
   "outputs": [],
   "source": [
    "def findBookSpine(good_matches, query_img, kp_query, kp_scene):\n",
    "    '''\n",
    "    @good_matches: set of good matches\n",
    "    @query_img: query image\n",
    "    @frame: video frame image\n",
    "    @kp_query: keypoints of the query image\n",
    "    @kp_scene: keypoints of the scene image\n",
    "    @returns: stored bookspine in the correct orientation\n",
    "    '''\n",
    "    \n",
    "    if len(good_matches) > 15:\n",
    "        \n",
    "        # Source points and destnation points\n",
    "        src_pts = np.float32([kp_query[m.queryIdx].pt for m in good_matches]).reshape(-1, 1, 2)\n",
    "        dst_pts = np.float32([kp_scene[m.trainIdx].pt for m in good_matches]).reshape(-1, 1, 2)\n",
    "        \n",
    "        # Compute Homography\n",
    "        M, mask = cv2.findHomography(src_pts, dst_pts, cv2.RANSAC, 5.0)\n",
    "\n",
    "        rows,cols = frame.shape[:2]\n",
    "        dst = cv2.warpPerspective(query_img, M, (cols, rows));\n",
    "        return dst\n",
    "    "
   ]
  },
  {
   "cell_type": "markdown",
   "metadata": {},
   "source": [
    "## Hide background if a book spine appears in the video frame"
   ]
  },
  {
   "cell_type": "code",
   "execution_count": 20,
   "metadata": {},
   "outputs": [
    {
     "data": {
      "text/plain": [
       "-1"
      ]
     },
     "execution_count": 20,
     "metadata": {},
     "output_type": "execute_result"
    }
   ],
   "source": [
    "# SIFT keypoint extractor\n",
    "sift = cv2.xfeatures2d.SIFT_create()\n",
    "\n",
    "path = \"book_spines/\"\n",
    "\n",
    "kp_query1, des_query1, query_img1 = extractFeaturesFromImage(path+'spine-1.jpg')\n",
    "kp_query2, des_query2, query_img2 = extractFeaturesFromImage(path+'spine-2.jpg')\n",
    "kp_query3, des_query3, query_img3 = extractFeaturesFromImage(path+'spine-3.jpg')\n",
    "\n",
    "# Initialize FLANN matcher\n",
    "flann = initializeMatcher()\n",
    "\n",
    "# Initialize camera\n",
    "camera = initializeCamera(640)\n",
    "\n",
    "while True:\n",
    "    # Get frame at flip it\n",
    "    ret, frame = camera.read()\n",
    "    frame = cv2.flip(frame, 1)\n",
    "    frame_gray = cv2.cvtColor(frame, cv2.COLOR_BGR2GRAY)\n",
    "\n",
    "    # keypoints and descriptors for video frame \n",
    "    kp_scene, des_scene =  sift.detectAndCompute(frame_gray,None)\n",
    "       \n",
    "    # Good Matches\n",
    "    good_matches1 = getGoodMatches(des_query1,des_scene)\n",
    "    good_matches2 = getGoodMatches(des_query2,des_scene)\n",
    "    good_matches3 = getGoodMatches(des_query3,des_scene)   \n",
    "        \n",
    "    dst = findBookSpine(good_matches1, query_img1, kp_query1, kp_scene)\n",
    "\n",
    "    if type(dst) == np.ndarray: \n",
    "        frame = dst\n",
    "    \n",
    "    if cv2.waitKey(5) == 32:\n",
    "        imshow(frame)        \n",
    "    elif cv2.waitKey(5) == 27:\n",
    "        break  \n",
    "   \n",
    "    cv2.imshow(\"SIFT Frame\", frame)\n",
    "    \n",
    "cv2.destroyAllWindows()\n",
    "camera.release()\n",
    "cv2.waitKey(1) # extra waitKey sometimes needed to close camera window"
   ]
  },
  {
   "cell_type": "markdown",
   "metadata": {},
   "source": [
    "## Book Spine Selection"
   ]
  },
  {
   "cell_type": "code",
   "execution_count": 23,
   "metadata": {},
   "outputs": [],
   "source": [
    "def isolateBookSpineROI(good_matches, query_img, frame, kp_query, kp_scene):\n",
    "    '''\n",
    "    @good_matches: set of good matches\n",
    "    @query_img: query image\n",
    "    @frame: video frame image\n",
    "    @kp_query: keypoints of the query image\n",
    "    @kp_scene: keypoints of the scene image\n",
    "    \n",
    "    ASSUMPTION: keypoints on the book spine are distributed uniformly across the height\n",
    "    '''\n",
    "    if len(good_matches) > 15:\n",
    "        \n",
    "        # Source points and destnation points\n",
    "        src_pts = np.float32([kp_query[m.queryIdx].pt for m in good_matches]).reshape(-1, 1, 2)\n",
    "        dst_pts = np.float32([kp_scene[m.trainIdx].pt for m in good_matches]).reshape(-1, 1, 2)\n",
    "        \n",
    "        # Compute Homography\n",
    "        M, mask = cv2.findHomography(dst_pts, src_pts, cv2.RANSAC, 5.0)\n",
    "\n",
    "        rows,cols = query_img.shape[:2]\n",
    "        dst = cv2.warpPerspective(frame, M, (cols, rows));\n",
    "        \n",
    "        # Theshold matched points that are below the book spine.\n",
    "        # If less than 1/5 of all good matches i from the lower part of the book spine,\n",
    "        # register selection of the book spine.\n",
    "        threshold_height = int(query_img.shape[0] * 0.7)        \n",
    "        num_pass_threshold = 0\n",
    "        for point in src_pts:\n",
    "            if point[0][1] >= threshold_height:\n",
    "                   num_pass_threshold += 1\n",
    "        \n",
    "        book_selected = False\n",
    "        threshold_num_matches = int(len(good_matches) / 10)\n",
    "        \n",
    "        print \"   \", threshold_num_matches, num_pass_threshold        \n",
    "        selected = True if num_pass_threshold <= threshold_num_matches else False\n",
    "\n",
    "        return dst, selected\n",
    "    return None, None"
   ]
  },
  {
   "cell_type": "code",
   "execution_count": 24,
   "metadata": {},
   "outputs": [],
   "source": [
    "def checkSelected(selected):\n",
    "    '''\n",
    "    @selected: book is selected in the current frame\n",
    "    @returns: True if the book is selected in 10 consecutive frames, and False otherwise\n",
    "    '''\n",
    "    global book_selected\n",
    "    if selected is not None:\n",
    "        if selected == True:\n",
    "            book_selected += 1\n",
    "        else: \n",
    "            book_selected = 0\n",
    "\n",
    "        return book_selected >= 10\n",
    "    return False"
   ]
  },
  {
   "cell_type": "code",
   "execution_count": 25,
   "metadata": {},
   "outputs": [
    {
     "name": "stdout",
     "output_type": "stream",
     "text": [
      "SELECTED\n"
     ]
    },
    {
     "data": {
      "text/plain": [
       "-1"
      ]
     },
     "execution_count": 25,
     "metadata": {},
     "output_type": "execute_result"
    }
   ],
   "source": [
    "from IPython.display import clear_output\n",
    "\n",
    "# SIFT keypoint extractor\n",
    "sift = cv2.xfeatures2d.SIFT_create()\n",
    "\n",
    "\n",
    "path = \"book_spines/\"\n",
    "\n",
    "kp_query1, des_query1, query_img1 = extractFeaturesFromImage(path+'spine-1.jpg')\n",
    "kp_query2, des_query2, query_img2 = extractFeaturesFromImage(path+'spine-2.jpg')\n",
    "kp_query3, des_query3, query_img3 = extractFeaturesFromImage(path+'spine-3.jpg')\n",
    "\n",
    "# Initialize FLANN matcher\n",
    "flann = initializeMatcher()\n",
    "\n",
    "# Initialize camera\n",
    "camera = initializeCamera(640)\n",
    "\n",
    "global book_selected\n",
    "book_selected = 0\n",
    "book_selected_bool = False\n",
    "\n",
    "while True:\n",
    "    clear_output(True)\n",
    "\n",
    "    # Get frame at flip it\n",
    "    ret, frame = camera.read()\n",
    "    frame = cv2.flip(frame, 1)\n",
    "    frame_gray = cv2.cvtColor(frame, cv2.COLOR_BGR2GRAY)\n",
    "\n",
    "    # keypoints and descriptors for video frame \n",
    "    kp_scene, des_scene =  sift.detectAndCompute(frame_gray,None)\n",
    "    \n",
    "    if book_selected_bool == False:\n",
    "        # Find Good Matches\n",
    "        good_matches1 = getGoodMatches(des_query1,des_scene)\n",
    "        good_matches2 = getGoodMatches(des_query2,des_scene)\n",
    "        good_matches3 = getGoodMatches(des_query3,des_scene)\n",
    "\n",
    "        dst, selected = isolateBookSpineROI(good_matches1, query_img1, frame, kp_query1, kp_scene)\n",
    "        book_selected_bool = checkSelected(selected)\n",
    "            \n",
    "    else:\n",
    "        print \"SELECTED\"\n",
    "        \n",
    "    \n",
    "    if cv2.waitKey(5) == 32:\n",
    "        src_pts = np.float32([kp_query1[m.queryIdx].pt for m in good_matches1]).reshape(-1, 1, 2)\n",
    "        print src_pts      \n",
    "    elif cv2.waitKey(5) == 27:\n",
    "        break  \n",
    "   \n",
    "    # frame = cv2.flip(frame, 1)\n",
    "    cv2.imshow(\"SIFT Frame\", frame)\n",
    "    \n",
    "cv2.destroyAllWindows()\n",
    "camera.release()\n",
    "cv2.waitKey(1) # extra waitKey sometimes needed to close camera window"
   ]
  },
  {
   "cell_type": "code",
   "execution_count": null,
   "metadata": {},
   "outputs": [],
   "source": []
  },
  {
   "cell_type": "markdown",
   "metadata": {},
   "source": [
    "## Getting images for book selection"
   ]
  },
  {
   "cell_type": "code",
   "execution_count": 74,
   "metadata": {},
   "outputs": [],
   "source": [
    "def isolateBookSpineROI(good_matches, query_img, frame, kp_query, kp_scene):\n",
    "    '''\n",
    "    @good_matches: set of good matches\n",
    "    @query_img: query image\n",
    "    @frame: video frame image\n",
    "    @kp_query: keypoints of the query image\n",
    "    @kp_scene: keypoints of the scene image\n",
    "    \n",
    "    ASSUMPTION: keypoints on the book spine are distributed uniformly across the height\n",
    "    '''\n",
    "    if len(good_matches) > 15:\n",
    "        \n",
    "        # Source points and destnation points\"\n",
    "        src_pts = np.float32([kp_query[m.queryIdx].pt for m in good_matches]).reshape(-1, 1, 2)\n",
    "        dst_pts = np.float32([kp_scene[m.trainIdx].pt for m in good_matches]).reshape(-1, 1, 2)\n",
    "        \n",
    "        # Compute Homography\n",
    "        M, mask = cv2.findHomography(dst_pts, src_pts, cv2.RANSAC, 5.0)\n",
    "\n",
    "        rows,cols = query_img.shape[:2]\n",
    "        dst = cv2.warpPerspective(frame, M, (cols, rows));\n",
    "        \n",
    "        # Theshold matched points that are below the book spine.\n",
    "        # If less than 1/5 of all good matches i from the lower part of the book spine,\n",
    "        # register selection of the book spine.\n",
    "        threshold_height = int(query_img.shape[0] * 0.7)        \n",
    "        num_pass_threshold = 0\n",
    "        for point in src_pts:\n",
    "            \n",
    "            if point[0][1] >= threshold_height:\n",
    "                num_pass_threshold += 1\n",
    "                cv2.circle(dst, tuple(point[0]), 2, (0,0,255), 4)\n",
    "            else:\n",
    "                cv2.circle(dst, tuple(point[0]), 2, (0,255,255), 2)\n",
    "\n",
    "                    \n",
    "        \n",
    "        book_selected = False\n",
    "        threshold_num_matches = int(len(good_matches) / 10)\n",
    "        \n",
    "        print \"   \", threshold_num_matches, num_pass_threshold        \n",
    "        selected = True if num_pass_threshold <= threshold_num_matches else False\n",
    "\n",
    "        return dst, selected\n",
    "    return None, None"
   ]
  },
  {
   "cell_type": "code",
   "execution_count": 77,
   "metadata": {},
   "outputs": [
    {
     "name": "stdout",
     "output_type": "stream",
     "text": [
      "    8 12\n"
     ]
    },
    {
     "data": {
      "text/plain": [
       "-1"
      ]
     },
     "execution_count": 77,
     "metadata": {},
     "output_type": "execute_result"
    }
   ],
   "source": [
    "from IPython.display import clear_output\n",
    "\n",
    "# SIFT keypoint extractor\n",
    "sift = cv2.xfeatures2d.SIFT_create()\n",
    "\n",
    "\n",
    "path = \"book_spines/\"\n",
    "\n",
    "kp_query1, des_query1, query_img1 = extractFeaturesFromImage(path+'spine-2.jpg')\n",
    "kp_query2, des_query2, query_img2 = extractFeaturesFromImage(path+'spine-2.jpg')\n",
    "kp_query3, des_query3, query_img3 = extractFeaturesFromImage(path+'spine-3.jpg')\n",
    "\n",
    "# Initialize FLANN matcher\n",
    "flann = initializeMatcher()\n",
    "\n",
    "# Initialize camera\n",
    "camera = initializeCamera(640)\n",
    "\n",
    "global book_selected\n",
    "book_selected = 0\n",
    "book_selected_bool = False\n",
    "i = 0\n",
    "while True:\n",
    "    clear_output(True)\n",
    "\n",
    "    # Get frame at flip it\n",
    "    ret, frame = camera.read()\n",
    "    frame = cv2.flip(frame, 1)\n",
    "    frame_gray = cv2.cvtColor(frame, cv2.COLOR_BGR2GRAY)\n",
    "\n",
    "    # keypoints and descriptors for video frame \n",
    "    kp_scene, des_scene =  sift.detectAndCompute(frame_gray,None)\n",
    "    \n",
    "    if book_selected_bool == False:\n",
    "        # Find Good Matches\n",
    "        good_matches1 = getGoodMatches(des_query1,des_scene)\n",
    "        good_matches2 = getGoodMatches(des_query2,des_scene)\n",
    "        good_matches3 = getGoodMatches(des_query3,des_scene)\n",
    "\n",
    "        dst, selected = isolateBookSpineROI(good_matches1, query_img1, frame, kp_query1, kp_scene)\n",
    "        \n",
    "        \n",
    "        frame = cv2.flip(frame, 1)\n",
    "        dst = cv2.flip(dst, 1)        \n",
    "        cv2.imshow(\"DST\", dst)\n",
    "\n",
    "        \n",
    "#         book_selected_bool = checkSelected(selected)\n",
    "            \n",
    "    else:\n",
    "        print \"SELECTED\"\n",
    "        \n",
    "    \n",
    "    if cv2.waitKey(5) == 32:\n",
    "        \n",
    "        cv2.imwrite(\"fig5-scene\"+str(i)+\".jpg\", frame)\n",
    "        cv2.imwrite(\"fig5-spine\"+str(i)+\".jpg\", dst)\n",
    "        i+=1\n",
    "     \n",
    "    elif cv2.waitKey(5) == 27:\n",
    "        break  \n",
    "   \n",
    "    # frame = cv2.flip(frame, 1)\n",
    "    cv2.imshow(\"SIFT Frame\", frame)\n",
    "    \n",
    "cv2.destroyAllWindows()\n",
    "camera.release()\n",
    "cv2.waitKey(1) # extra waitKey sometimes needed to close camera window"
   ]
  },
  {
   "cell_type": "code",
   "execution_count": null,
   "metadata": {},
   "outputs": [],
   "source": []
  }
 ],
 "metadata": {
  "kernelspec": {
   "display_name": "Python 2",
   "language": "python",
   "name": "python2"
  },
  "language_info": {
   "codemirror_mode": {
    "name": "ipython",
    "version": 2
   },
   "file_extension": ".py",
   "mimetype": "text/x-python",
   "name": "python",
   "nbconvert_exporter": "python",
   "pygments_lexer": "ipython2",
   "version": "2.7.14"
  }
 },
 "nbformat": 4,
 "nbformat_minor": 2
}
