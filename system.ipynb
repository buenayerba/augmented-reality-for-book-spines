{
 "cells": [
  {
   "cell_type": "markdown",
   "metadata": {},
   "source": [
    "## Import Libraries"
   ]
  },
  {
   "cell_type": "code",
   "execution_count": 40,
   "metadata": {},
   "outputs": [],
   "source": [
    "# standard setup\n",
    "%matplotlib inline\n",
    "import numpy as np\n",
    "import matplotlib.pyplot as plt\n",
    "import cv2\n",
    "import random\n",
    "import time\n",
    "import glob\n",
    "\n",
    "\n",
    "# useful helper function\n",
    "from helpers import imshow"
   ]
  },
  {
   "cell_type": "markdown",
   "metadata": {},
   "source": [
    "## Helper Methods"
   ]
  },
  {
   "cell_type": "code",
   "execution_count": 2,
   "metadata": {},
   "outputs": [],
   "source": [
    "def extractFeaturesFromImage(query_path):\n",
    "    '''\n",
    "    @query_path: path of the query image\n",
    "    @returns: keypoints and descriptors of the query image\n",
    "    '''\n",
    "    query_img = cv2.imread(query_path, 0)\n",
    "    kp_query, des_query = sift.detectAndCompute(query_img, None)  \n",
    "    return kp_query, des_query, query_img"
   ]
  },
  {
   "cell_type": "code",
   "execution_count": 3,
   "metadata": {},
   "outputs": [],
   "source": [
    "def initializeMatcher():\n",
    "    '''\n",
    "    @returns: FLANN matcher\n",
    "    '''\n",
    "    FLANN_INDEX_KDTREE = 0\n",
    "    index_params = dict(algorithm = FLANN_INDEX_KDTREE, trees = 5)\n",
    "    search_params = dict(checks=50)   # or pass empty dictionary\n",
    "    flann = cv2.FlannBasedMatcher(index_params,search_params)\n",
    "    return flann"
   ]
  },
  {
   "cell_type": "code",
   "execution_count": 4,
   "metadata": {},
   "outputs": [],
   "source": [
    "def initializeCamera(w, camera_port):\n",
    "    '''\n",
    "    @w: width of the video frame\n",
    "    @returns: camera object\n",
    "    '''\n",
    "    camera = cv2.VideoCapture(camera_port)\n",
    "    camera.set(cv2.CAP_PROP_FRAME_WIDTH, w) \n",
    "    camera.set(cv2.CAP_PROP_FRAME_HEIGHT, w * 3/4) \n",
    "    camera.set(cv2.CAP_PROP_EXPOSURE,-4) \n",
    "    return camera"
   ]
  },
  {
   "cell_type": "code",
   "execution_count": 101,
   "metadata": {},
   "outputs": [],
   "source": [
    "def getGoodMatches(des_query, des_scene):\n",
    "    '''\n",
    "    @des_query: descriptors of a query image\n",
    "    @des_scene: descriptors of a scene image\n",
    "    @returns: list of good matches for query and scene images\n",
    "    '''\n",
    "    \n",
    "    matches = flann.knnMatch(des_query, des_scene,k=2)\n",
    "\n",
    "    # ratio test as per Lowe's paper\n",
    "    good_matches = []\n",
    "    \n",
    "    # Each member of the matches list must be checked whether two neighbours really exist.\n",
    "    for m_n in matches:\n",
    "        if len(m_n) != 2:\n",
    "            continue\n",
    "        (m,n) = m_n\n",
    "        if m.distance < 0.7*n.distance:\n",
    "            good_matches.append(m)\n",
    "            \n",
    "    return good_matches"
   ]
  },
  {
   "cell_type": "code",
   "execution_count": 43,
   "metadata": {},
   "outputs": [],
   "source": [
    "def importSpines(directory = 'spines'):\n",
    "    '''\n",
    "    @directory: folder where spine images are located\n",
    "    @returns: array of all grayscale spine images represented as np.arrays, \n",
    "    their keypoints and descriptors\n",
    "    '''\n",
    "    directory += '/*.jpg'\n",
    "    spine_fnames = glob.glob(directory)    \n",
    "    spines = []\n",
    "    \n",
    "    for fname in spine_fnames:\n",
    "        spines.append(extractFeaturesFromImage(fname))\n",
    "        \n",
    "    return spines"
   ]
  },
  {
   "cell_type": "code",
   "execution_count": 120,
   "metadata": {},
   "outputs": [],
   "source": [
    "def importARWindows(spines, dir_covers = 'covers', dir_info = 'info'):\n",
    "    '''\n",
    "    @dir_covers: folder where book covers are located\n",
    "    @dir_info: folder where book info windows are located\n",
    "    @returns: array of cover window and info window for each book. \n",
    "    '''\n",
    "    dir_covers += '/*.jpg'\n",
    "    dir_info += '/*.jpg'\n",
    "    \n",
    "    cover_fnames = glob.glob(dir_covers)    \n",
    "    info_fnames = glob.glob(dir_info)    \n",
    "    \n",
    "    if len(cover_fnames) != len(info_fnames):\n",
    "        print \"Number of cover windows and info windows is different\"\n",
    "        return None\n",
    "    \n",
    "    ar_windows = []\n",
    "\n",
    "    for i in range(len(cover_fnames)):\n",
    "        target_height = spines[i][2].shape[0]  # height of the book spine image       \n",
    "        \n",
    "        # Cover window\n",
    "        cover_fname = cover_fnames[i]\n",
    "        cover_image = cv2.imread(cover_fname)\n",
    "        # Fit image to book spine\n",
    "        scaling_factor_cover = 1.0*target_height/cover_image.shape[0]\n",
    "        cover_image = cv2.resize(cover_image, None, fx = scaling_factor_cover, fy = scaling_factor_cover, interpolation = cv2.INTER_AREA)\n",
    "        \n",
    "        \n",
    "        # Book info window\n",
    "        info_fname = info_fnames[i]\n",
    "        info_image = cv2.imread(info_fname)\n",
    "        # Fit image to book spine\n",
    "        scaling_factor_info = 1.0*target_height/info_image.shape[0]\n",
    "        info_image = cv2.resize(info_image, None, fx = scaling_factor_info, fy = scaling_factor_info, interpolation = cv2.INTER_AREA)\n",
    "        \n",
    "        ar_windows.append([cover_image, info_image])\n",
    "    return ar_windows\n"
   ]
  },
  {
   "cell_type": "code",
   "execution_count": 121,
   "metadata": {},
   "outputs": [],
   "source": [
    "def getGoodMatchesForAllSpines(spines, des_scene):\n",
    "    '''\n",
    "    @spine: array containing spine keypoints, descriptors and images\n",
    "    @descriptors of the scene image (video frame)\n",
    "    @returns: good matches for each of the book spines\n",
    "    '''\n",
    "    good_matches = []\n",
    "    \n",
    "    for spine in spines:\n",
    "        des_query = spine[1]\n",
    "        good_matches.append(getGoodMatches(des_query,des_scene))\n",
    "    return good_matches"
   ]
  },
  {
   "cell_type": "code",
   "execution_count": 129,
   "metadata": {},
   "outputs": [],
   "source": [
    "def isSelectedInThisFrame(good_matches, query_img, frame, kp_query, kp_scene):\n",
    "    '''\n",
    "    @good_matches: set of good matches\n",
    "    @query_img: query image\n",
    "    @frame: video frame image\n",
    "    @kp_query: keypoints of the query image\n",
    "    @kp_scene: keypoints of the scene image\n",
    "    @returns: True if the book was selected in this frame, and False otherwise\n",
    "    \n",
    "    ASSUMPTION: keypoints on the book spine are distributed uniformly across the height\n",
    "    '''\n",
    "    if len(good_matches) > 15:\n",
    "        \n",
    "        # Source points and destnation points\n",
    "        src_pts = np.float32([kp_query[m.queryIdx].pt for m in good_matches]).reshape(-1, 1, 2)\n",
    "        dst_pts = np.float32([kp_scene[m.trainIdx].pt for m in good_matches]).reshape(-1, 1, 2)\n",
    "        \n",
    "        # Compute Homography\n",
    "        M, mask = cv2.findHomography(dst_pts, src_pts, cv2.RANSAC, 5.0)\n",
    "\n",
    "        rows,cols = query_img.shape[:2]\n",
    "        dst = cv2.warpPerspective(frame, M, (cols, rows));\n",
    "        \n",
    "        # Theshold matched points that are below the book spine.\n",
    "        # If less than 1/5 of all good matches i from the lower part of the book spine,\n",
    "        # register selection of the book spine.\n",
    "        threshold_height = int(query_img.shape[0] * 0.7)        \n",
    "        num_matches_in_lower_part = 0\n",
    "        for point in src_pts:\n",
    "            if point[0][1] >= threshold_height:\n",
    "                   num_matches_in_lower_part += 1\n",
    "        \n",
    "        book_selected = False\n",
    "        threshold = int(len(good_matches) / 10)\n",
    "        print \"BOOKSPINE is found\"\n",
    "        print \"   \", threshold, num_matches_in_lower_part        \n",
    "        selected_status = True if num_matches_in_lower_part <= threshold else False\n",
    "        return selected_status\n",
    "    \n",
    "    return False"
   ]
  },
  {
   "cell_type": "code",
   "execution_count": 130,
   "metadata": {},
   "outputs": [],
   "source": [
    "def checkSelected(good_matches, spines, frame, kp_scene):\n",
    "    '''\n",
    "    @good_matches: array of good matches for each book spine\n",
    "    @spines: keypoints, descriptors and images for all spines\n",
    "    @frame: current frame\n",
    "    @kp_scene: keypoints of the current scene (video frame)\n",
    "    @returns: book that was selected in the current scene, and -1 if no book\n",
    "    was selected\n",
    "    '''\n",
    "    book_selected_in_this_frame = -1\n",
    "    for i in range(len(spines)):\n",
    "        query_img = spines[i][2]\n",
    "        kp_query = spines[i][0]\n",
    "        if isSelectedInThisFrame(good_matches[i], query_img, frame, kp_query, kp_scene):\n",
    "            book_selected_in_this_frame = i\n",
    "            break\n",
    "    return book_selected_in_this_frame"
   ]
  },
  {
   "cell_type": "code",
   "execution_count": 135,
   "metadata": {},
   "outputs": [],
   "source": [
    "def updateSelectedStatus(book_selected_in_this_frame, book_selected_in_prev_frame, num_frames_selected):\n",
    "    '''\n",
    "    @book_selected_in_this_frame: book selected in the current frame\n",
    "    @book_selected_in_prev_frame: book selected in the previous frame\n",
    "    @num_frames_selected: number of consecutive frames that the book was selected\n",
    "    @returns augmented_book_id: ID of the augmented book, and -1 if no book is \n",
    "    selected to be augmented\n",
    "    @returns num_frames_selected: updated number of consecutive frames that the book \n",
    "    was selected\n",
    "    '''\n",
    "    \n",
    "    print \"book_selected_in_this_frame\", book_selected_in_this_frame\n",
    "    print \"book_selected_in_prev_frame\", book_selected_in_prev_frame\n",
    "    print \"NUM FRAMES SELECTED\", num_frames_selected\n",
    "    if book_selected_in_this_frame == -1:\n",
    "        num_frames_selected = 0\n",
    "    elif book_selected_in_this_frame == book_selected_in_prev_frame:\n",
    "        num_frames_selected += 1\n",
    "    else:\n",
    "        num_frames_selected = 1\n",
    "\n",
    "    if num_frames_selected >= 10:\n",
    "        num_frames_selected = 0\n",
    "        augmented_book_id = book_selected_in_this_frame\n",
    "    else:    \n",
    "        augmented_book_id = -1\n",
    "    \n",
    "    return augmented_book_id, num_frames_selected\n"
   ]
  },
  {
   "cell_type": "code",
   "execution_count": 155,
   "metadata": {},
   "outputs": [],
   "source": [
    "def augmentSpine(good_matches, kp_scene, kp_query, frame, window_id, arWindowsSpine):\n",
    "    '''\n",
    "    @good_matches: set of good matches for this spine\n",
    "    @kp_scene: keypoints of the scene image (video frame)\n",
    "    @kp_query: keypoints of the query image (spine)\n",
    "    @frame: current video frame\n",
    "    @window_id: id of the spine's window with which the spine will be augmented\n",
    "    @arWindowsSpine: libary of augmenting windows foe this spine\n",
    "    @returns: image of the augmented video frame\n",
    "    \n",
    "    '''\n",
    "    if len(good_matches) > 15:\n",
    "        # Image of the AR window with which the spine will be augmented\n",
    "        AR_image = arWindowsSpine[window_id]\n",
    "\n",
    "        # Source (spine) points and destnation (frame) points\n",
    "        src_pts = np.float32([kp_query[m.queryIdx].pt for m in good_matches]).reshape(-1, 1, 2)\n",
    "        dst_pts = np.float32([kp_scene[m.trainIdx].pt for m in good_matches]).reshape(-1, 1, 2)\n",
    "        \n",
    "        # Compute Homography\n",
    "        M, mask = cv2.findHomography(src_pts, dst_pts, cv2.RANSAC, 5.0)\n",
    "\n",
    "        rows,cols = frame.shape[:2]\n",
    "        dst = cv2.warpPerspective(AR_image, M, (cols, rows));\n",
    "        \n",
    "        frame_augmented = frame.copy()\n",
    "        frame_augmented[np.nonzero(dst)] = dst[np.nonzero(dst)]\n",
    "        return frame_augmented\n",
    "    return frame"
   ]
  },
  {
   "cell_type": "markdown",
   "metadata": {},
   "source": [
    "# Main system code"
   ]
  },
  {
   "cell_type": "code",
   "execution_count": 158,
   "metadata": {},
   "outputs": [
    {
     "name": "stdout",
     "output_type": "stream",
     "text": [
      "SELECTED 1\n",
      "[[[  9   5   3]\n",
      "  [ 10   6   4]\n",
      "  [  8   6   4]\n",
      "  ...\n",
      "  [132 163 167]\n",
      "  [128 165 165]\n",
      "  [130 166 167]]\n",
      "\n",
      " [[ 11   6   7]\n",
      "  [ 11   6   7]\n",
      "  [  9   7   5]\n",
      "  ...\n",
      "  [136 162 171]\n",
      "  [134 163 170]\n",
      "  [132 162 169]]\n",
      "\n",
      " [[  7   8   5]\n",
      "  [  7   8   5]\n",
      "  [ 10   6   4]\n",
      "  ...\n",
      "  [137 159 169]\n",
      "  [140 157 179]\n",
      "  [139 156 178]]\n",
      "\n",
      " ...\n",
      "\n",
      " [[ 19  44  24]\n",
      "  [ 19  44  24]\n",
      "  [ 30  38  27]\n",
      "  ...\n",
      "  [112 119 132]\n",
      "  [124 115 135]\n",
      "  [125 117 136]]\n",
      "\n",
      " [[ 30  40  23]\n",
      "  [ 29  39  21]\n",
      "  [ 24  36  22]\n",
      "  ...\n",
      "  [122 118 130]\n",
      "  [122 115 137]\n",
      "  [122 115 137]]\n",
      "\n",
      " [[ 41  41  28]\n",
      "  [ 34  34  21]\n",
      "  [  7  22  13]\n",
      "  ...\n",
      "  [123 120 130]\n",
      "  [122 115 137]\n",
      "  [118 110 132]]]\n"
     ]
    },
    {
     "data": {
      "text/plain": [
       "-1"
      ]
     },
     "execution_count": 158,
     "metadata": {},
     "output_type": "execute_result"
    }
   ],
   "source": [
    "from IPython.display import clear_output\n",
    "\n",
    "# SIFT keypoint extractor\n",
    "sift = cv2.xfeatures2d.SIFT_create()\n",
    "\n",
    "spines = importSpines()\n",
    "arWindows = importARWindows(spines)\n",
    "\n",
    "# Initialize FLANN matcher\n",
    "flann = initializeMatcher()\n",
    "\n",
    "# Initialize camera\n",
    "camera = initializeCamera(640, 1)\n",
    "\n",
    "book_selected_in_prev_frame = -1 # book selected in previous frame\n",
    "num_frames_selected = 0 # number of consecutive frames in which the current\n",
    "                        # book spine was selected\n",
    "augmented_book_id = -1 # Book for which AR menu is displayed\n",
    "\n",
    "aug_window_id = 0 # Initialize id of the augmenting window\n",
    "\n",
    "while True:\n",
    "    clear_output(True)\n",
    "\n",
    "    # Get frame at flip it\n",
    "    ret, frame = camera.read()\n",
    "    frame = cv2.flip(frame, 1)\n",
    "    frame_gray = cv2.cvtColor(frame, cv2.COLOR_BGR2GRAY)\n",
    "\n",
    "    # keypoints and descriptors for video frame \n",
    "    kp_scene, des_scene =  sift.detectAndCompute(frame_gray,None)\n",
    "    \n",
    "    if augmented_book_id == -1:\n",
    "        \n",
    "        # Find good matches for each book spine\n",
    "        good_matches = getGoodMatchesForAllSpines(spines, des_scene)\n",
    "  \n",
    "        # Check if any of the bookspines has been selected\n",
    "        # If selected 10 times in a row, change this book's status to Selected\n",
    "        book_selected_in_this_frame = checkSelected(good_matches, spines, frame, kp_scene)\n",
    "        augmented_book_id, num_frames_selected = updateSelectedStatus(book_selected_in_this_frame, book_selected_in_prev_frame, num_frames_selected)\n",
    "        \n",
    "        book_selected_in_prev_frame = book_selected_in_this_frame\n",
    "        \n",
    "    else:\n",
    "        print \"SELECTED\", augmented_book_id\n",
    "        \n",
    "        spine = spines[augmented_book_id]\n",
    "        kp_query = spine[0]\n",
    "        arWindowsSpine = arWindows[augmented_book_id]\n",
    "        \n",
    "        good_matches_aug = getGoodMatchesForAllSpines([spine], des_scene)[0]\n",
    "        augmented_frame = augmentSpine(good_matches_aug, kp_scene, kp_query, frame, aug_window_id, arWindowsSpine)\n",
    "        augmented_frame = cv2.flip(augmented_frame, 1)\n",
    "        cv2.imshow(\"Augmented Frame\", augmented_frame)\n",
    "    \n",
    "    if cv2.waitKey(5) == 32:\n",
    "        augmented_book_id = -1\n",
    "    elif cv2.waitKey(5) == 27:\n",
    "        break  \n",
    "   \n",
    "    frame = cv2.flip(frame, 1)\n",
    "    cv2.imshow(\"Frame\", frame)\n",
    "    \n",
    "cv2.destroyAllWindows()\n",
    "camera.release()\n",
    "cv2.waitKey(1) # extra waitKey sometimes needed to close camera window"
   ]
  },
  {
   "cell_type": "code",
   "execution_count": null,
   "metadata": {},
   "outputs": [],
   "source": []
  },
  {
   "cell_type": "code",
   "execution_count": null,
   "metadata": {},
   "outputs": [],
   "source": []
  },
  {
   "cell_type": "code",
   "execution_count": null,
   "metadata": {},
   "outputs": [],
   "source": []
  },
  {
   "cell_type": "code",
   "execution_count": null,
   "metadata": {},
   "outputs": [],
   "source": []
  },
  {
   "cell_type": "markdown",
   "metadata": {},
   "source": [
    "# IMPORT EVERYTHING"
   ]
  },
  {
   "cell_type": "code",
   "execution_count": 102,
   "metadata": {},
   "outputs": [
    {
     "name": "stdout",
     "output_type": "stream",
     "text": [
      "[<DMatch 0x11d178210>]\n"
     ]
    }
   ],
   "source": [
    "des_query = spines[0][1]\n",
    "\n",
    "print getGoodMatches(des_query,des_scene)"
   ]
  },
  {
   "cell_type": "code",
   "execution_count": 98,
   "metadata": {},
   "outputs": [
    {
     "name": "stdout",
     "output_type": "stream",
     "text": [
      "3\n"
     ]
    }
   ],
   "source": [
    "print len(spines[0])"
   ]
  },
  {
   "cell_type": "code",
   "execution_count": null,
   "metadata": {},
   "outputs": [],
   "source": []
  },
  {
   "cell_type": "code",
   "execution_count": null,
   "metadata": {},
   "outputs": [],
   "source": []
  },
  {
   "cell_type": "code",
   "execution_count": null,
   "metadata": {},
   "outputs": [],
   "source": []
  },
  {
   "cell_type": "code",
   "execution_count": null,
   "metadata": {},
   "outputs": [],
   "source": []
  },
  {
   "cell_type": "code",
   "execution_count": null,
   "metadata": {},
   "outputs": [],
   "source": []
  },
  {
   "cell_type": "markdown",
   "metadata": {},
   "source": [
    "## Real time spine tracking and augmentation"
   ]
  },
  {
   "cell_type": "code",
   "execution_count": 57,
   "metadata": {},
   "outputs": [
    {
     "name": "stdout",
     "output_type": "stream",
     "text": [
      "(668, 88)\n",
      "(668, 503, 3)\n"
     ]
    },
    {
     "data": {
      "text/plain": [
       "-1"
      ]
     },
     "execution_count": 57,
     "metadata": {},
     "output_type": "execute_result"
    }
   ],
   "source": [
    "\n",
    "\n",
    "query_path = 'book2.jpg'\n",
    "query = cv2.imread(query_path, 0)\n",
    "\n",
    "\n",
    "\n",
    "target_height = query.shape[0]\n",
    "\n",
    "\n",
    "\n",
    "scaling_factor_q = 1.0*target_height/query.shape[0]\n",
    "query = cv2.resize(query, None, fx = scaling_factor_q, fy = scaling_factor_q, interpolation = cv2.INTER_AREA)\n",
    "print query.shape\n",
    "\n",
    "\n",
    "AR_image_path = 'cover4.jpg'\n",
    "AR_image = cv2.imread(AR_image_path)\n",
    "scaling_factor_ar = 1.0*target_height/AR_image.shape[0]\n",
    "AR_image = cv2.resize(AR_image, None, fx = scaling_factor_ar, fy = scaling_factor_ar, interpolation = cv2.INTER_AREA)\n",
    "print AR_image.shape\n",
    "\n",
    "\n",
    "# SIFT keypoint detector\n",
    "sift = cv2.xfeatures2d.SIFT_create()\n",
    "\n",
    "# Import the query image and compute SIFT keypoints and descriptors\n",
    "kp_query, des_query = sift.detectAndCompute(query, None)  \n",
    "\n",
    "# FLANN parameters\n",
    "FLANN_INDEX_KDTREE = 0\n",
    "index_params = dict(algorithm = FLANN_INDEX_KDTREE, trees = 5)\n",
    "search_params = dict(checks=50)   # or pass empty dictionary\n",
    "flann = cv2.FlannBasedMatcher(index_params,search_params)\n",
    "\n",
    "# Camera settings\n",
    "camera = cv2.VideoCapture(0)\n",
    "# reduce frame size to speed it up\n",
    "w = 640\n",
    "camera.set(cv2.CAP_PROP_FRAME_WIDTH, w) \n",
    "camera.set(cv2.CAP_PROP_FRAME_HEIGHT, w * 3/4) \n",
    "camera.set(cv2.CAP_PROP_EXPOSURE,-4) \n",
    "\n",
    "while True:\n",
    "    # Get frame at flip it\n",
    "    ret, frame = camera.read()\n",
    "    frame = cv2.flip(frame, 1)\n",
    "    gray = cv2.cvtColor(frame, cv2.COLOR_BGR2GRAY)\n",
    "\n",
    "    # keypoints and descriptors for video frame \n",
    "    \n",
    "    kp_scene, des_scene =  sift.detectAndCompute(gray,None)\n",
    "       \n",
    "    # Match scene descriptors with query descriptors\n",
    "    matches = flann.knnMatch(des_query,des_scene,k=2)\n",
    "\n",
    "    # ratio test as per Lowe's paper\n",
    "    good_matches = []\n",
    "    # Each member of the matches list must be checked whether two neighbours really exist.\n",
    "    for m_n in matches:\n",
    "        if len(m_n) != 2:\n",
    "            continue\n",
    "        (m,n) = m_n\n",
    "        if m.distance < 0.7*n.distance:\n",
    "            good_matches.append(m)\n",
    "    \n",
    "#     print \"{} matches found\".format(len(good_matches))\n",
    "\n",
    "    # If enough matches found ...\n",
    "    if len(good_matches) > 15:\n",
    "        \n",
    "        # Source points and destnation points\n",
    "        src_pts = np.float32([kp_query[m.queryIdx].pt for m in good_matches]).reshape(-1, 1, 2)\n",
    "        dst_pts = np.float32([kp_scene[m.trainIdx].pt for m in good_matches]).reshape(-1, 1, 2)\n",
    "        \n",
    "        \n",
    "        # Compute Homography\n",
    "        M, mask = cv2.findHomography(src_pts, dst_pts, cv2.RANSAC, 5.0)\n",
    "\n",
    "        rows,cols = frame.shape[:2]\n",
    "        dst = cv2.warpPerspective(AR_image, M, (cols, rows));\n",
    "\n",
    "        frame[np.nonzero(dst)] = dst[np.nonzero(dst)]\n",
    "    \n",
    "        \n",
    "#         # Draw a rectangle that marks the found model in the frame\n",
    "#         h, w = query.shape\n",
    "#         pts = np.float32([[0, 0], [0, h - 1], [w - 1, h - 1], [w - 1, 0]]).reshape(-1, 1, 2)\n",
    "#         # project corners into frame\n",
    "#         dst = cv2.perspectiveTransform(pts, M)\n",
    "    \n",
    "#         # Draw lines\n",
    "#         cv2.polylines(frame, [np.int32(dst)], True, (0, 255, 255), 3, cv2.LINE_AA) \n",
    "        \n",
    "    \n",
    "    if cv2.waitKey(5) == 32:\n",
    "        imshow(frame)        \n",
    "    elif cv2.waitKey(5) == 27:\n",
    "        break  \n",
    "   \n",
    "    #frame = cv2.flip(frame, 1)\n",
    "    cv2.imshow(\"SIFT Frame\", frame)\n",
    "    \n",
    "cv2.destroyAllWindows()\n",
    "camera.release()\n",
    "cv2.waitKey(1) # extra waitKey sometimes needed to close camera window\n",
    "\n"
   ]
  },
  {
   "cell_type": "code",
   "execution_count": 49,
   "metadata": {},
   "outputs": [
    {
     "name": "stdout",
     "output_type": "stream",
     "text": [
      "True\n"
     ]
    }
   ],
   "source": [
    "\n",
    "camera = cv2.VideoCapture(1)\n",
    "print camera.isOpened()\n",
    "camera.release()\n"
   ]
  },
  {
   "cell_type": "code",
   "execution_count": null,
   "metadata": {},
   "outputs": [],
   "source": []
  }
 ],
 "metadata": {
  "kernelspec": {
   "display_name": "Python 2",
   "language": "python",
   "name": "python2"
  },
  "language_info": {
   "codemirror_mode": {
    "name": "ipython",
    "version": 2
   },
   "file_extension": ".py",
   "mimetype": "text/x-python",
   "name": "python",
   "nbconvert_exporter": "python",
   "pygments_lexer": "ipython2",
   "version": "2.7.14"
  }
 },
 "nbformat": 4,
 "nbformat_minor": 2
}
