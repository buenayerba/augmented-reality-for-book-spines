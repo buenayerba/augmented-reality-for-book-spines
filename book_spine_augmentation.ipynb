{
 "cells": [
  {
   "cell_type": "markdown",
   "metadata": {},
   "source": [
    "## Import Libraries"
   ]
  },
  {
   "cell_type": "code",
   "execution_count": 1,
   "metadata": {},
   "outputs": [],
   "source": [
    "# standard setup\n",
    "%matplotlib inline\n",
    "import numpy as np\n",
    "import matplotlib.pyplot as plt\n",
    "import cv2\n",
    "import random\n",
    "import time\n",
    "\n",
    "# useful helper function\n",
    "from helpers import imshow"
   ]
  },
  {
   "cell_type": "markdown",
   "metadata": {},
   "source": [
    "## Real time spine tracking and augmentation"
   ]
  },
  {
   "cell_type": "code",
   "execution_count": 57,
   "metadata": {},
   "outputs": [
    {
     "name": "stdout",
     "output_type": "stream",
     "text": [
      "(668, 88)\n",
      "(668, 503, 3)\n"
     ]
    },
    {
     "data": {
      "text/plain": [
       "-1"
      ]
     },
     "execution_count": 57,
     "metadata": {},
     "output_type": "execute_result"
    }
   ],
   "source": [
    "\n",
    "\n",
    "query_path = 'book2.jpg'\n",
    "query = cv2.imread(query_path, 0)\n",
    "\n",
    "\n",
    "\n",
    "target_height = query.shape[0]\n",
    "\n",
    "\n",
    "\n",
    "scaling_factor_q = 1.0*target_height/query.shape[0]\n",
    "query = cv2.resize(query, None, fx = scaling_factor_q, fy = scaling_factor_q, interpolation = cv2.INTER_AREA)\n",
    "print query.shape\n",
    "\n",
    "\n",
    "AR_image_path = 'cover4.jpg'\n",
    "AR_image = cv2.imread(AR_image_path)\n",
    "scaling_factor_ar = 1.0*target_height/AR_image.shape[0]\n",
    "AR_image = cv2.resize(AR_image, None, fx = scaling_factor_ar, fy = scaling_factor_ar, interpolation = cv2.INTER_AREA)\n",
    "print AR_image.shape\n",
    "\n",
    "\n",
    "# SIFT keypoint detector\n",
    "sift = cv2.xfeatures2d.SIFT_create()\n",
    "\n",
    "# Import the query image and compute SIFT keypoints and descriptors\n",
    "kp_query, des_query = sift.detectAndCompute(query, None)  \n",
    "\n",
    "# FLANN parameters\n",
    "FLANN_INDEX_KDTREE = 0\n",
    "index_params = dict(algorithm = FLANN_INDEX_KDTREE, trees = 5)\n",
    "search_params = dict(checks=50)   # or pass empty dictionary\n",
    "flann = cv2.FlannBasedMatcher(index_params,search_params)\n",
    "\n",
    "# Camera settings\n",
    "camera = cv2.VideoCapture(0)\n",
    "# reduce frame size to speed it up\n",
    "w = 640\n",
    "camera.set(cv2.CAP_PROP_FRAME_WIDTH, w) \n",
    "camera.set(cv2.CAP_PROP_FRAME_HEIGHT, w * 3/4) \n",
    "camera.set(cv2.CAP_PROP_EXPOSURE,-4) \n",
    "\n",
    "while True:\n",
    "    # Get frame at flip it\n",
    "    ret, frame = camera.read()\n",
    "    frame = cv2.flip(frame, 1)\n",
    "    gray = cv2.cvtColor(frame, cv2.COLOR_BGR2GRAY)\n",
    "\n",
    "    # keypoints and descriptors for video frame \n",
    "    \n",
    "    kp_scene, des_scene =  sift.detectAndCompute(gray,None)\n",
    "       \n",
    "    # Match scene descriptors with query descriptors\n",
    "    matches = flann.knnMatch(des_query,des_scene,k=2)\n",
    "\n",
    "    # ratio test as per Lowe's paper\n",
    "    good_matches = []\n",
    "    # Each member of the matches list must be checked whether two neighbours really exist.\n",
    "    for m_n in matches:\n",
    "        if len(m_n) != 2:\n",
    "            continue\n",
    "        (m,n) = m_n\n",
    "        if m.distance < 0.7*n.distance:\n",
    "            good_matches.append(m)\n",
    "    \n",
    "#     print \"{} matches found\".format(len(good_matches))\n",
    "\n",
    "    # If enough matches found ...\n",
    "    if len(good_matches) > 15:\n",
    "        \n",
    "        # Source points and destnation points\n",
    "        src_pts = np.float32([kp_query[m.queryIdx].pt for m in good_matches]).reshape(-1, 1, 2)\n",
    "        dst_pts = np.float32([kp_scene[m.trainIdx].pt for m in good_matches]).reshape(-1, 1, 2)\n",
    "        \n",
    "        \n",
    "        # Compute Homography\n",
    "        M, mask = cv2.findHomography(src_pts, dst_pts, cv2.RANSAC, 5.0)\n",
    "\n",
    "        rows,cols = frame.shape[:2]\n",
    "        dst = cv2.warpPerspective(AR_image, M, (cols, rows));\n",
    "\n",
    "        frame[np.nonzero(dst)] = dst[np.nonzero(dst)]\n",
    "    \n",
    "        \n",
    "#         # Draw a rectangle that marks the found model in the frame\n",
    "#         h, w = query.shape\n",
    "#         pts = np.float32([[0, 0], [0, h - 1], [w - 1, h - 1], [w - 1, 0]]).reshape(-1, 1, 2)\n",
    "#         # project corners into frame\n",
    "#         dst = cv2.perspectiveTransform(pts, M)\n",
    "    \n",
    "#         # Draw lines\n",
    "#         cv2.polylines(frame, [np.int32(dst)], True, (0, 255, 255), 3, cv2.LINE_AA) \n",
    "        \n",
    "    \n",
    "    if cv2.waitKey(5) == 32:\n",
    "        imshow(frame)        \n",
    "    elif cv2.waitKey(5) == 27:\n",
    "        break  \n",
    "   \n",
    "    #frame = cv2.flip(frame, 1)\n",
    "    cv2.imshow(\"SIFT Frame\", frame)\n",
    "    \n",
    "cv2.destroyAllWindows()\n",
    "camera.release()\n",
    "cv2.waitKey(1) # extra waitKey sometimes needed to close camera window\n",
    "\n"
   ]
  },
  {
   "cell_type": "code",
   "execution_count": 49,
   "metadata": {},
   "outputs": [
    {
     "name": "stdout",
     "output_type": "stream",
     "text": [
      "True\n"
     ]
    }
   ],
   "source": [
    "\n",
    "camera = cv2.VideoCapture(1)\n",
    "print camera.isOpened()\n",
    "camera.release()\n"
   ]
  },
  {
   "cell_type": "code",
   "execution_count": null,
   "metadata": {},
   "outputs": [],
   "source": []
  }
 ],
 "metadata": {
  "kernelspec": {
   "display_name": "Python 2",
   "language": "python",
   "name": "python2"
  },
  "language_info": {
   "codemirror_mode": {
    "name": "ipython",
    "version": 2
   },
   "file_extension": ".py",
   "mimetype": "text/x-python",
   "name": "python",
   "nbconvert_exporter": "python",
   "pygments_lexer": "ipython2",
   "version": "2.7.14"
  }
 },
 "nbformat": 4,
 "nbformat_minor": 2
}
